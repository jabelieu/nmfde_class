{
 "cells": [
  {
   "cell_type": "code",
   "execution_count": 31,
   "id": "197154de",
   "metadata": {},
   "outputs": [
    {
     "name": "stdout",
     "output_type": "stream",
     "text": [
      "1.0\n",
      "1.0\n"
     ]
    },
    {
     "data": {
      "image/png": "[encoded data removed]",
      "text/plain": [
       "<Figure size 640x480 with 2 Axes>"
      ]
     },
     "metadata": {},
     "output_type": "display_data"
    }
   ],
   "source": [
    "import numpy as np\n",
    "import matplotlib.pyplot as plt\n",
    "\n",
    "def solve_bvp(N):\n",
    "    h = 1.0 / N\n",
    "    x = np.linspace(0, 1, N+1)\n",
    "\n",
    "    # Matrix A and RHS b\n",
    "    A = np.zeros((N+1, N+1))\n",
    "    b = np.ones(N+1)\n",
    "\n",
    "    # Interior points\n",
    "    for i in range(1, N):\n",
    "        A[i, i-1] = 1.0 / h**2\n",
    "        A[i, i]   = -2.0 / h**2\n",
    "        A[i, i+1] = 1.0 / h**2\n",
    "        b[i] = 1.0  # from u''=1\n",
    "\n",
    "    # Neumann BC at x=0: u'(0)=0  → (u1 - u_{-1})/(2h)=0 → u0 - u1 = 0\n",
    "    A[0,0] = 1.0\n",
    "    A[0,1] = -1.0\n",
    "    b[0] = 0.0\n",
    "\n",
    "    # Neumann BC at x=1: u'(1)=1 → (u_{N+1} - u_{N-1})/(2h)=1\n",
    "    # Approximate with (uN - u_{N-1})/h = 1  (second-order one-sided)\n",
    "    A[N,N]   = 1.0 / h\n",
    "    A[N,N-1] = -1.0 / h\n",
    "    b[N] = 1.0\n",
    "\n",
    "    # Add integral constraint as last equation\n",
    "    # A = np.vstack([A, np.ones(N+1)*h])\n",
    "    # b = np.append(b, 1.0)\n",
    "\n",
    "    plt.imshow(A)\n",
    "    plt.colorbar()\n",
    "\n",
    "    # Solve least squares (since extra eqn makes system overdetermined)\n",
    "    u, *_ = np.linalg.lstsq(A, b, rcond=None)\n",
    "\n",
    "    return x, u\n",
    "from scipy.integrate import simpson\n",
    "n=4\n",
    "x,u = solve_bvp(n)\n",
    "u /= simpson(u,x)  # Normalize\n",
    "print(simpson(u,x))\n",
    "x = np.linspace ( 0. , 1. , n+1 )\n",
    "an =  0.5*x**2+5/6\n",
    "# an /= simpson(an)\n",
    "print(simpson(an,x))\n",
    "# plt.plot( x , 0.5*x**2+5/6 ,label='Analytic');\n",
    "# plt.plot(x,u);\n",
    "# plt.legend()"
   ]
  }
 ],
 "metadata": {
  "kernelspec": {
   "display_name": "NMFDE Venv",
   "language": "python",
   "name": ".venv_nmfde"
  },
  "language_info": {
   "codemirror_mode": {
    "name": "ipython",
    "version": 3
   },
   "file_extension": ".py",
   "mimetype": "text/x-python",
   "name": "python",
   "nbconvert_exporter": "python",
   "pygments_lexer": "ipython3",
   "version": "3.12.3"
  }
 },
 "nbformat": 4,
 "nbformat_minor": 5
}
